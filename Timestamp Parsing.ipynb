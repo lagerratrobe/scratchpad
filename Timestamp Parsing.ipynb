{
 "cells": [
  {
   "cell_type": "code",
   "execution_count": 1,
   "metadata": {},
   "outputs": [],
   "source": [
    "import pandas as pd\n"
   ]
  },
  {
   "cell_type": "code",
   "execution_count": 2,
   "metadata": {},
   "outputs": [
    {
     "data": {
      "text/plain": [
       "0    1519811397\n",
       "1    1519811396\n",
       "2    1519811394\n",
       "3    1519811392\n",
       "4    1519811352\n",
       "Name: timestamp, dtype: int64"
      ]
     },
     "execution_count": 2,
     "metadata": {},
     "output_type": "execute_result"
    }
   ],
   "source": [
    "df = pd.read_csv(\"ip_date_sample.csv\", delimiter=\"|\")\n",
    "df['timestamp'].head()"
   ]
  },
  {
   "cell_type": "code",
   "execution_count": 3,
   "metadata": {},
   "outputs": [
    {
     "data": {
      "text/html": [
       "<div>\n",
       "<style>\n",
       "    .dataframe thead tr:only-child th {\n",
       "        text-align: right;\n",
       "    }\n",
       "\n",
       "    .dataframe thead th {\n",
       "        text-align: left;\n",
       "    }\n",
       "\n",
       "    .dataframe tbody tr th {\n",
       "        vertical-align: top;\n",
       "    }\n",
       "</style>\n",
       "<table border=\"1\" class=\"dataframe\">\n",
       "  <thead>\n",
       "    <tr style=\"text-align: right;\">\n",
       "      <th></th>\n",
       "      <th>ip</th>\n",
       "      <th>timestamp</th>\n",
       "      <th>human_time</th>\n",
       "    </tr>\n",
       "  </thead>\n",
       "  <tbody>\n",
       "    <tr>\n",
       "      <th>0</th>\n",
       "      <td>xyz.321</td>\n",
       "      <td>1519811397</td>\n",
       "      <td>2018-02-28 09:49:57</td>\n",
       "    </tr>\n",
       "    <tr>\n",
       "      <th>1</th>\n",
       "      <td>xyz.321</td>\n",
       "      <td>1519811396</td>\n",
       "      <td>2018-02-28 09:49:56</td>\n",
       "    </tr>\n",
       "    <tr>\n",
       "      <th>2</th>\n",
       "      <td>xyz.213</td>\n",
       "      <td>1519811394</td>\n",
       "      <td>2018-02-28 09:49:54</td>\n",
       "    </tr>\n",
       "    <tr>\n",
       "      <th>3</th>\n",
       "      <td>xyz.123</td>\n",
       "      <td>1519811392</td>\n",
       "      <td>2018-02-28 09:49:52</td>\n",
       "    </tr>\n",
       "    <tr>\n",
       "      <th>4</th>\n",
       "      <td>xyz.321</td>\n",
       "      <td>1519811352</td>\n",
       "      <td>2018-02-28 09:49:12</td>\n",
       "    </tr>\n",
       "  </tbody>\n",
       "</table>\n",
       "</div>"
      ],
      "text/plain": [
       "        ip   timestamp          human_time\n",
       "0  xyz.321  1519811397 2018-02-28 09:49:57\n",
       "1  xyz.321  1519811396 2018-02-28 09:49:56\n",
       "2  xyz.213  1519811394 2018-02-28 09:49:54\n",
       "3  xyz.123  1519811392 2018-02-28 09:49:52\n",
       "4  xyz.321  1519811352 2018-02-28 09:49:12"
      ]
     },
     "execution_count": 3,
     "metadata": {},
     "output_type": "execute_result"
    }
   ],
   "source": [
    "df['human_time'] = pd.to_datetime(df['timestamp'], unit='s')\n",
    "df.head()"
   ]
  },
  {
   "cell_type": "code",
   "execution_count": 25,
   "metadata": {},
   "outputs": [
    {
     "data": {
      "text/html": [
       "<div>\n",
       "<style>\n",
       "    .dataframe thead tr:only-child th {\n",
       "        text-align: right;\n",
       "    }\n",
       "\n",
       "    .dataframe thead th {\n",
       "        text-align: left;\n",
       "    }\n",
       "\n",
       "    .dataframe tbody tr th {\n",
       "        vertical-align: top;\n",
       "    }\n",
       "</style>\n",
       "<table border=\"1\" class=\"dataframe\">\n",
       "  <thead>\n",
       "    <tr style=\"text-align: right;\">\n",
       "      <th></th>\n",
       "      <th>ip</th>\n",
       "      <th>timestamp</th>\n",
       "      <th>human_time</th>\n",
       "      <th>day_of_week</th>\n",
       "    </tr>\n",
       "  </thead>\n",
       "  <tbody>\n",
       "    <tr>\n",
       "      <th>0</th>\n",
       "      <td>xyz.321</td>\n",
       "      <td>1519811397</td>\n",
       "      <td>2018-02-28 09:49:57</td>\n",
       "      <td>Wednesday</td>\n",
       "    </tr>\n",
       "    <tr>\n",
       "      <th>1</th>\n",
       "      <td>xyz.321</td>\n",
       "      <td>1519811396</td>\n",
       "      <td>2018-02-28 09:49:56</td>\n",
       "      <td>Wednesday</td>\n",
       "    </tr>\n",
       "    <tr>\n",
       "      <th>2</th>\n",
       "      <td>xyz.213</td>\n",
       "      <td>1519811394</td>\n",
       "      <td>2018-02-28 09:49:54</td>\n",
       "      <td>Wednesday</td>\n",
       "    </tr>\n",
       "    <tr>\n",
       "      <th>3</th>\n",
       "      <td>xyz.123</td>\n",
       "      <td>1519811392</td>\n",
       "      <td>2018-02-28 09:49:52</td>\n",
       "      <td>Wednesday</td>\n",
       "    </tr>\n",
       "    <tr>\n",
       "      <th>4</th>\n",
       "      <td>xyz.321</td>\n",
       "      <td>1519811352</td>\n",
       "      <td>2018-02-28 09:49:12</td>\n",
       "      <td>Wednesday</td>\n",
       "    </tr>\n",
       "  </tbody>\n",
       "</table>\n",
       "</div>"
      ],
      "text/plain": [
       "        ip   timestamp          human_time day_of_week\n",
       "0  xyz.321  1519811397 2018-02-28 09:49:57   Wednesday\n",
       "1  xyz.321  1519811396 2018-02-28 09:49:56   Wednesday\n",
       "2  xyz.213  1519811394 2018-02-28 09:49:54   Wednesday\n",
       "3  xyz.123  1519811392 2018-02-28 09:49:52   Wednesday\n",
       "4  xyz.321  1519811352 2018-02-28 09:49:12   Wednesday"
      ]
     },
     "execution_count": 25,
     "metadata": {},
     "output_type": "execute_result"
    }
   ],
   "source": [
    "# And if you want to see the day of week\n",
    "df['day_of_week'] = df['human_time'].dt.weekday_name\n",
    "df.head()"
   ]
  },
  {
   "cell_type": "markdown",
   "metadata": {},
   "source": [
    "Additional date/time attributes can be found [here](https://pandas.pydata.org/pandas-docs/stable/generated/pandas.DatetimeIndex.html).  This is a really convenient thing to know, but HORRIBLY documented.  What's happening above is this:\n",
    "\n",
    "1. The [to_datetime()](https://pandas.pydata.org/pandas-docs/stable/generated/pandas.to_datetime.html) function is converting the Epoch time in seconds into a datetime object, which in this case is of type [DatetimeIndex](https://pandas.pydata.org/pandas-docs/stable/generated/pandas.DatetimeIndex.html)\n",
    "2. One of the available DatetimeIndex \"attributes\" is a convenience function named [weekday_name](https://pandas.pydata.org/pandas-docs/stable/generated/pandas.DatetimeIndex.weekday_name.html#pandas.DatetimeIndex.weekday_name), which returns the Sun - Sat name of weekday."
   ]
  }
 ],
 "metadata": {
  "kernelspec": {
   "display_name": "Python 3",
   "language": "python",
   "name": "python3"
  },
  "language_info": {
   "codemirror_mode": {
    "name": "ipython",
    "version": 3
   },
   "file_extension": ".py",
   "mimetype": "text/x-python",
   "name": "python",
   "nbconvert_exporter": "python",
   "pygments_lexer": "ipython3",
   "version": "3.6.3"
  }
 },
 "nbformat": 4,
 "nbformat_minor": 2
}
